{
  "cells": [
    {
      "cell_type": "markdown",
      "metadata": {
        "id": "view-in-github",
        "colab_type": "text"
      },
      "source": [
        "<a href=\"https://colab.research.google.com/github/JDospinaCr7/CV_JuanDavidOspinaVillalobos/blob/main/content/es/docencia/python/ejercicios/soluciones/condicionales/ejercicio1.ipynb\" target=\"_parent\"><img src=\"https://colab.research.google.com/assets/colab-badge.svg\" alt=\"Open In Colab\"/></a>"
      ]
    },
    {
      "cell_type": "markdown",
      "metadata": {
        "id": "Mpkm-_WfOyrR"
      },
      "source": [
        "## Ejercicio\n",
        "Escribir un programa que pregunte al usuario su edad y muestre por pantalla si es mayor de edad o no."
      ]
    },
    {
      "cell_type": "markdown",
      "metadata": {
        "id": "V4r7lNiDOyrS"
      },
      "source": [
        "## Solución"
      ]
    },
    {
      "cell_type": "code",
      "source": [
        "Num1 = float (input(\"Ingrese el primer número\"))\n",
        "Num2 = float (input(\"Ingrese el segundo número\"))\n",
        "print(\"El primer número es: \",Num1 )\n",
        "print(\"El segundo número es: \",Num2 )\n",
        "#Operaciones matemáticas\n",
        "suma = Num1 + Num2\n",
        "resta = Num1 - Num2\n",
        "multiplicacion = Num1 * Num2\n",
        "#Validar que el segundo numero no sea cero\n",
        "if Num1! =0:\n",
        "    división = Num1 / Num2\n",
        "else:\n",
        " División = \"EL SEGUNDO NUMERO ES CERO Y NO ES POSIBLE DIVIDIR POR CERO\"\n",
        " print(\"La suma es: \", suma)\n",
        "print(\"La resta es: \", resta)\n",
        "print(\"La multiplicación es: \", multiplicacion)\n",
        "print(\"La División es: \", División )\n",
        "\n",
        "\n"
      ],
      "metadata": {
        "id": "v-8dg184O4Kf"
      },
      "execution_count": null,
      "outputs": []
    },
    {
      "cell_type": "code",
      "metadata": {
        "id": "e86489a8"
      },
      "source": [
        "\n",
        "\n"
      ],
      "execution_count": null,
      "outputs": []
    }
  ],
  "metadata": {
    "kernelspec": {
      "display_name": "Python 3",
      "language": "python",
      "name": "python3"
    },
    "language_info": {
      "codemirror_mode": {
        "name": "ipython",
        "version": 3
      },
      "file_extension": ".py",
      "mimetype": "text/x-python",
      "name": "python",
      "nbconvert_exporter": "python",
      "pygments_lexer": "ipython3",
      "version": "3.7.1"
    },
    "colab": {
      "provenance": [],
      "include_colab_link": true
    }
  },
  "nbformat": 4,
  "nbformat_minor": 0
}